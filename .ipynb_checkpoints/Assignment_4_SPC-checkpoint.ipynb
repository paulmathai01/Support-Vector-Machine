{
 "cells": [
  {
   "cell_type": "code",
   "execution_count": 38,
   "metadata": {},
   "outputs": [],
   "source": [
    "# Importing required libraries\n",
    "import pandas as pd                                   \n",
    "import numpy as np                                    \n",
    "import keras\n",
    "from sklearn.model_selection import GridSearchCV\n",
    "from sklearn.svm import SVC\n",
    "from sklearn.model_selection import StratifiedShuffleSplit\n",
    "from keras.models import Sequential                   \n",
    "from keras.layers import Dense, Activation            \n",
    "from keras.callbacks import History \n",
    "from sklearn.metrics import confusion_matrix          \n",
    "from sklearn import preprocessing\n",
    "from sklearn.model_selection import train_test_split  \n",
    "from sklearn.preprocessing import LabelBinarizer    \n",
    "from sklearn.model_selection import KFold\n",
    "from sklearn.metrics import confusion_matrix\n",
    "from sklearn.metrics import accuracy_score\n",
    "from sklearn.metrics import classification_report\n",
    "import seaborn as sns                                 \n",
    "import matplotlib.pyplot as plt                       \n",
    "%matplotlib inline\n",
    "\n",
    "np.random.seed(1)  "
   ]
  },
  {
   "cell_type": "code",
   "execution_count": 39,
   "metadata": {},
   "outputs": [],
   "source": [
    "# Load dataset from Keras\n",
    "#KEEP DATA IN THE SAME DIRECTORY ***RELATIVE FILE PATH***\n",
    "data_np = np.loadtxt(\"SPC-Datasets/SPC-Training.txt\")\n",
    "data2_np = np.loadtxt(\"SPC-Datasets/SPC-Testing.txt\")"
   ]
  },
  {
   "cell_type": "code",
   "execution_count": 40,
   "metadata": {},
   "outputs": [],
   "source": [
    "# Shaping the Dataset for single run and Kfold run\n",
    "(X_train_np, y_train_np), (X_test_np, y_test_np) =(data_np[:, 0:10], data_np[:, 10:17]), (data2_np[:, 0:10], data2_np[:, 10:17])"
   ]
  },
  {
   "cell_type": "code",
   "execution_count": 41,
   "metadata": {},
   "outputs": [
    {
     "name": "stdout",
     "output_type": "stream",
     "text": [
      "Shape of X_train (2500, 10)\n",
      "Shape of y_train (2500, 7)\n",
      "Shape of X_test (250, 10)\n",
      "Shape of y_test (250, 7)\n"
     ]
    }
   ],
   "source": [
    "# Normalize x\n",
    "X_train_np = X_train_np.astype(float) / np.amax(X_train_np)\n",
    "X_test_np = X_test_np.astype(float) / np.amax(X_test_np)\n",
    "\n",
    "# Flatten input: Changing dimension of input\n",
    "X_train_np = X_train_np.reshape([X_train_np.shape[0], -1])\n",
    "X_test_np = X_test_np.reshape([X_test_np.shape[0], -1])\n",
    "\n",
    "# Transforming y using Label Binarizer from Scikit Learn\n",
    "lb = LabelBinarizer()\n",
    "y_train_np = lb.fit_transform(y_train_np)\n",
    "y_test_np = lb.fit_transform(y_test_np)\n",
    "\n",
    "    \n",
    "# Splitting training data in training and validation data\n",
    "#X_train_np, X_val_np, y_train_np, y_val_np = train_test_split(X_train_np, y_train_np, test_size = 0.2, random_state = 10)\n",
    "\n",
    "# Printing dimensions\n",
    "print(\"Shape of X_train\", X_train_np.shape)\n",
    "print(\"Shape of y_train\", y_train_np.shape)\n",
    "print(\"Shape of X_test\", X_test_np.shape)\n",
    "print(\"Shape of y_test\", y_test_np.shape)\n"
   ]
  },
  {
   "cell_type": "code",
   "execution_count": 42,
   "metadata": {},
   "outputs": [
    {
     "data": {
      "text/html": [
       "<div>\n",
       "<style scoped>\n",
       "    .dataframe tbody tr th:only-of-type {\n",
       "        vertical-align: middle;\n",
       "    }\n",
       "\n",
       "    .dataframe tbody tr th {\n",
       "        vertical-align: top;\n",
       "    }\n",
       "\n",
       "    .dataframe thead th {\n",
       "        text-align: right;\n",
       "    }\n",
       "</style>\n",
       "<table border=\"1\" class=\"dataframe\">\n",
       "  <thead>\n",
       "    <tr style=\"text-align: right;\">\n",
       "      <th></th>\n",
       "      <th>0</th>\n",
       "      <th>1</th>\n",
       "      <th>2</th>\n",
       "      <th>3</th>\n",
       "      <th>4</th>\n",
       "      <th>5</th>\n",
       "      <th>6</th>\n",
       "      <th>7</th>\n",
       "      <th>8</th>\n",
       "      <th>9</th>\n",
       "    </tr>\n",
       "  </thead>\n",
       "  <tbody>\n",
       "    <tr>\n",
       "      <th>0</th>\n",
       "      <td>-0.376531</td>\n",
       "      <td>-0.540191</td>\n",
       "      <td>0.320641</td>\n",
       "      <td>-0.598530</td>\n",
       "      <td>0.498775</td>\n",
       "      <td>-0.573814</td>\n",
       "      <td>0.343131</td>\n",
       "      <td>-0.010020</td>\n",
       "      <td>-0.243376</td>\n",
       "      <td>-0.110888</td>\n",
       "    </tr>\n",
       "    <tr>\n",
       "      <th>1</th>\n",
       "      <td>0.297707</td>\n",
       "      <td>-0.003117</td>\n",
       "      <td>-0.252505</td>\n",
       "      <td>0.381652</td>\n",
       "      <td>0.405478</td>\n",
       "      <td>-0.442886</td>\n",
       "      <td>-0.235137</td>\n",
       "      <td>-0.405923</td>\n",
       "      <td>0.536183</td>\n",
       "      <td>0.201737</td>\n",
       "    </tr>\n",
       "    <tr>\n",
       "      <th>2</th>\n",
       "      <td>-0.061902</td>\n",
       "      <td>0.037631</td>\n",
       "      <td>-0.613672</td>\n",
       "      <td>-0.182365</td>\n",
       "      <td>0.461813</td>\n",
       "      <td>0.485193</td>\n",
       "      <td>-0.137163</td>\n",
       "      <td>0.312848</td>\n",
       "      <td>-0.633935</td>\n",
       "      <td>0.072367</td>\n",
       "    </tr>\n",
       "    <tr>\n",
       "      <th>3</th>\n",
       "      <td>0.257404</td>\n",
       "      <td>0.406814</td>\n",
       "      <td>0.241372</td>\n",
       "      <td>-0.150301</td>\n",
       "      <td>-0.536406</td>\n",
       "      <td>0.661323</td>\n",
       "      <td>0.230906</td>\n",
       "      <td>-0.439100</td>\n",
       "      <td>-0.042530</td>\n",
       "      <td>0.337119</td>\n",
       "    </tr>\n",
       "    <tr>\n",
       "      <th>4</th>\n",
       "      <td>-0.634380</td>\n",
       "      <td>-0.604542</td>\n",
       "      <td>0.202405</td>\n",
       "      <td>-0.046983</td>\n",
       "      <td>0.456468</td>\n",
       "      <td>-0.586061</td>\n",
       "      <td>0.388778</td>\n",
       "      <td>-0.118904</td>\n",
       "      <td>0.317524</td>\n",
       "      <td>-0.336673</td>\n",
       "    </tr>\n",
       "  </tbody>\n",
       "</table>\n",
       "</div>"
      ],
      "text/plain": [
       "          0         1         2         3         4         5         6  \\\n",
       "0 -0.376531 -0.540191  0.320641 -0.598530  0.498775 -0.573814  0.343131   \n",
       "1  0.297707 -0.003117 -0.252505  0.381652  0.405478 -0.442886 -0.235137   \n",
       "2 -0.061902  0.037631 -0.613672 -0.182365  0.461813  0.485193 -0.137163   \n",
       "3  0.257404  0.406814  0.241372 -0.150301 -0.536406  0.661323  0.230906   \n",
       "4 -0.634380 -0.604542  0.202405 -0.046983  0.456468 -0.586061  0.388778   \n",
       "\n",
       "          7         8         9  \n",
       "0 -0.010020 -0.243376 -0.110888  \n",
       "1 -0.405923  0.536183  0.201737  \n",
       "2  0.312848 -0.633935  0.072367  \n",
       "3 -0.439100 -0.042530  0.337119  \n",
       "4 -0.118904  0.317524 -0.336673  "
      ]
     },
     "execution_count": 42,
     "metadata": {},
     "output_type": "execute_result"
    }
   ],
   "source": [
    "X_train_df = pd.DataFrame({'0': X_train_np[:, 0], '1': X_train_np[:, 1],'2': X_train_np[:, 2],'3': X_train_np[:, 3],'4': X_train_np[:, 4],'5': X_train_np[:, 5],'6': X_train_np[:, 6],'7': X_train_np[:, 7],'8': X_train_np[:, 8],'9': X_train_np[:, 9]})\n",
    "y_train_df = pd.DataFrame({'0': y_train_np[:, 0], '1': y_train_np[:, 1],'2': y_train_np[:, 2],'3': y_train_np[:, 3],'4': y_train_np[:, 4],'5': y_train_np[:, 5],'6': y_train_np[:, 6]})\n",
    "X_train_df.head()"
   ]
  },
  {
   "cell_type": "code",
   "execution_count": 43,
   "metadata": {},
   "outputs": [
    {
     "data": {
      "text/html": [
       "<div>\n",
       "<style scoped>\n",
       "    .dataframe tbody tr th:only-of-type {\n",
       "        vertical-align: middle;\n",
       "    }\n",
       "\n",
       "    .dataframe tbody tr th {\n",
       "        vertical-align: top;\n",
       "    }\n",
       "\n",
       "    .dataframe thead th {\n",
       "        text-align: right;\n",
       "    }\n",
       "</style>\n",
       "<table border=\"1\" class=\"dataframe\">\n",
       "  <thead>\n",
       "    <tr style=\"text-align: right;\">\n",
       "      <th></th>\n",
       "      <th>0</th>\n",
       "      <th>1</th>\n",
       "      <th>2</th>\n",
       "      <th>3</th>\n",
       "      <th>4</th>\n",
       "      <th>5</th>\n",
       "      <th>6</th>\n",
       "      <th>7</th>\n",
       "      <th>8</th>\n",
       "      <th>9</th>\n",
       "    </tr>\n",
       "  </thead>\n",
       "  <tbody>\n",
       "    <tr>\n",
       "      <th>0</th>\n",
       "      <td>-0.389991</td>\n",
       "      <td>-0.559502</td>\n",
       "      <td>0.332103</td>\n",
       "      <td>-0.619926</td>\n",
       "      <td>0.516605</td>\n",
       "      <td>-0.594327</td>\n",
       "      <td>0.355397</td>\n",
       "      <td>-0.010378</td>\n",
       "      <td>-0.252076</td>\n",
       "      <td>-0.114852</td>\n",
       "    </tr>\n",
       "    <tr>\n",
       "      <th>1</th>\n",
       "      <td>0.308349</td>\n",
       "      <td>-0.003229</td>\n",
       "      <td>-0.261531</td>\n",
       "      <td>0.395295</td>\n",
       "      <td>0.419972</td>\n",
       "      <td>-0.458718</td>\n",
       "      <td>-0.243542</td>\n",
       "      <td>-0.420434</td>\n",
       "      <td>0.555351</td>\n",
       "      <td>0.208948</td>\n",
       "    </tr>\n",
       "    <tr>\n",
       "      <th>2</th>\n",
       "      <td>-0.064114</td>\n",
       "      <td>0.038976</td>\n",
       "      <td>-0.635609</td>\n",
       "      <td>-0.188884</td>\n",
       "      <td>0.478321</td>\n",
       "      <td>0.502537</td>\n",
       "      <td>-0.142066</td>\n",
       "      <td>0.324031</td>\n",
       "      <td>-0.656596</td>\n",
       "      <td>0.074954</td>\n",
       "    </tr>\n",
       "    <tr>\n",
       "      <th>3</th>\n",
       "      <td>0.266605</td>\n",
       "      <td>0.421356</td>\n",
       "      <td>0.250000</td>\n",
       "      <td>-0.155673</td>\n",
       "      <td>-0.555581</td>\n",
       "      <td>0.684963</td>\n",
       "      <td>0.239161</td>\n",
       "      <td>-0.454797</td>\n",
       "      <td>-0.044050</td>\n",
       "      <td>0.349170</td>\n",
       "    </tr>\n",
       "    <tr>\n",
       "      <th>4</th>\n",
       "      <td>-0.657057</td>\n",
       "      <td>-0.626153</td>\n",
       "      <td>0.209640</td>\n",
       "      <td>-0.048662</td>\n",
       "      <td>0.472786</td>\n",
       "      <td>-0.607011</td>\n",
       "      <td>0.402675</td>\n",
       "      <td>-0.123155</td>\n",
       "      <td>0.328875</td>\n",
       "      <td>-0.348708</td>\n",
       "    </tr>\n",
       "  </tbody>\n",
       "</table>\n",
       "</div>"
      ],
      "text/plain": [
       "          0         1         2         3         4         5         6  \\\n",
       "0 -0.389991 -0.559502  0.332103 -0.619926  0.516605 -0.594327  0.355397   \n",
       "1  0.308349 -0.003229 -0.261531  0.395295  0.419972 -0.458718 -0.243542   \n",
       "2 -0.064114  0.038976 -0.635609 -0.188884  0.478321  0.502537 -0.142066   \n",
       "3  0.266605  0.421356  0.250000 -0.155673 -0.555581  0.684963  0.239161   \n",
       "4 -0.657057 -0.626153  0.209640 -0.048662  0.472786 -0.607011  0.402675   \n",
       "\n",
       "          7         8         9  \n",
       "0 -0.010378 -0.252076 -0.114852  \n",
       "1 -0.420434  0.555351  0.208948  \n",
       "2  0.324031 -0.656596  0.074954  \n",
       "3 -0.454797 -0.044050  0.349170  \n",
       "4 -0.123155  0.328875 -0.348708  "
      ]
     },
     "execution_count": 43,
     "metadata": {},
     "output_type": "execute_result"
    }
   ],
   "source": [
    "X_test_df = pd.DataFrame({'0': X_test_np[:, 0], '1': X_test_np[:, 1],'2': X_test_np[:, 2],'3': X_test_np[:, 3],'4': X_test_np[:, 4],'5': X_test_np[:, 5],'6': X_test_np[:, 6],'7': X_test_np[:, 7],'8': X_test_np[:, 8],'9': X_test_np[:, 9]})\n",
    "y_test_df = pd.DataFrame({'0': y_test_np[:, 0], '1': y_test_np[:, 1],'2': y_test_np[:, 2],'3': y_test_np[:, 3],'4': y_test_np[:, 4],'5': y_test_np[:, 5],'6': y_test_np[:, 6]})\n",
    "X_test_df.head()"
   ]
  },
  {
   "cell_type": "code",
   "execution_count": 44,
   "metadata": {},
   "outputs": [
    {
     "data": {
      "text/plain": [
       "<matplotlib.axes._subplots.AxesSubplot at 0x140d0e5f8>"
      ]
     },
     "execution_count": 44,
     "metadata": {},
     "output_type": "execute_result"
    },
    {
     "data": {
      "image/png": "[encoded data removed]",
      "text/plain": [
       "<Figure size 432x288 with 1 Axes>"
      ]
     },
     "metadata": {},
     "output_type": "display_data"
    }
   ],
   "source": [
    "X_train_df.boxplot()"
   ]
  },
  {
   "cell_type": "code",
   "execution_count": 45,
   "metadata": {},
   "outputs": [
    {
     "data": {
      "image/png": "[encoded data removed]",
      "text/plain": [
       "<Figure size 576x576 with 1 Axes>"
      ]
     },
     "metadata": {},
     "output_type": "display_data"
    }
   ],
   "source": [
    "plt.figure(figsize = (8,8))\n",
    "for i in X_train_df:\n",
    "    sns.distplot(X_train_df[i], hist = False, label = i)"
   ]
  },
  {
   "cell_type": "code",
   "execution_count": 46,
   "metadata": {},
   "outputs": [
    {
     "data": {
      "text/plain": [
       "(2500,)"
      ]
     },
     "execution_count": 46,
     "metadata": {},
     "output_type": "execute_result"
    }
   ],
   "source": [
    "cls_list = []\n",
    "\n",
    "for i in range (len(y_train_np)):\n",
    "    if y_train_np[i][0] == 1:\n",
    "        cls_list.append(1)\n",
    "    elif y_train_np[i][1] == 1:\n",
    "        cls_list.append(2)\n",
    "    elif y_train_np[i][2] == 1:\n",
    "        cls_list.append(3) \n",
    "    elif y_train_np[i][3] == 1:\n",
    "        cls_list.append(4)\n",
    "    elif y_train_np[i][4] == 1:\n",
    "        cls_list.append(5)\n",
    "    elif y_train_np[i][5] == 1:\n",
    "        cls_list.append(6)\n",
    "    elif y_train_np[i][6] == 1:\n",
    "        cls_list.append(7)\n",
    "\n",
    "Y_class_arr = np.asarray(cls_list)\n",
    "Y_class_arr.shape"
   ]
  },
  {
   "cell_type": "code",
   "execution_count": 47,
   "metadata": {},
   "outputs": [
    {
     "name": "stdout",
     "output_type": "stream",
     "text": [
      "{'C': 10, 'gamma': 0.1, 'kernel': 'rbf'}\n"
     ]
    }
   ],
   "source": [
    "parameter_space = {'kernel': ['linear', 'rbf'], 'gamma': [0.001, 0.01, 0.1, 1], 'C': [0.001, 0.01, 0.1, 1, 10]}\n",
    "\n",
    "\n",
    "cv = sklearn.model_selection.StratifiedShuffleSplit(n_splits = 10, test_size=0.5, random_state = 1)\n",
    "\n",
    "clf = sklearn.model_selection.GridSearchCV(SVC(),parameter_space, cv = cv)\n",
    "clf.fit(X_train_np, Y_class_arr)\n",
    "print(clf.best_params_)"
   ]
  },
  {
   "cell_type": "code",
   "execution_count": 48,
   "metadata": {},
   "outputs": [
    {
     "name": "stdout",
     "output_type": "stream",
     "text": [
      "New Training Score =  0.9132\n",
      "New Testing Score =  0.916\n"
     ]
    }
   ],
   "source": [
    "# Training model with new parameters\n",
    "clf.fit(X_train_np, Y_class_arr)\n",
    "y_pred = clf.predict(X_test_np)\n",
    "cls_list = []\n",
    "\n",
    "for i in range (len(y_test_np)):\n",
    "    if y_test_np[i][0] == 1:\n",
    "        cls_list.append(1)\n",
    "    elif y_test_np[i][1] == 1:\n",
    "        cls_list.append(2)\n",
    "    elif y_test_np[i][2] == 1:\n",
    "        cls_list.append(3) \n",
    "    elif y_test_np[i][3] == 1:\n",
    "        cls_list.append(4)\n",
    "    elif y_test_np[i][4] == 1:\n",
    "        cls_list.append(5)\n",
    "    elif y_test_np[i][5] == 1:\n",
    "        cls_list.append(6)\n",
    "    elif y_test_np[i][6] == 1:\n",
    "        cls_list.append(7)\n",
    "\n",
    "Y_class_arr1 = np.asarray(cls_list)\n",
    "\n",
    "y_test = Y_class_arr1\n",
    "print(\"New Training Score = \", clf.score(X_train_np, Y_class_arr))\n",
    "print(\"New Testing Score = \", clf.score(X_test_np, Y_class_arr1))"
   ]
  },
  {
   "cell_type": "code",
   "execution_count": 49,
   "metadata": {},
   "outputs": [
    {
     "name": "stdout",
     "output_type": "stream",
     "text": [
      "Accuracy Score: 0.916\n",
      "\n",
      "\n"
     ]
    },
    {
     "data": {
      "text/plain": [
       "Text(0.5,51,'Predicted label')"
      ]
     },
     "execution_count": 49,
     "metadata": {},
     "output_type": "execute_result"
    },
    {
     "data": {
      "image/png": "[encoded data removed]",
      "text/plain": [
       "<Figure size 576x576 with 2 Axes>"
      ]
     },
     "metadata": {},
     "output_type": "display_data"
    }
   ],
   "source": [
    "print ('Accuracy Score: {}'.format(accuracy_score(y_test, y_pred)))\n",
    "print(\"\\n\")\n",
    "\n",
    "results = confusion_matrix(y_test, y_pred)\n",
    "plt.figure(figsize=(8,8))\n",
    "sns.heatmap(results, annot=True, fmt=\"d\", cmap = 'Blues')\n",
    "plt.title('Confusion Matrix')\n",
    "plt.ylabel('Actual label')\n",
    "plt.xlabel('Predicted label')"
   ]
  },
  {
   "cell_type": "code",
   "execution_count": 50,
   "metadata": {},
   "outputs": [
    {
     "name": "stdout",
     "output_type": "stream",
     "text": [
      "              precision    recall  f1-score   support\n",
      "\n",
      "           1       0.96      0.94      0.95       100\n",
      "           2       0.96      0.96      0.96        25\n",
      "           3       0.75      0.84      0.79        25\n",
      "           4       0.80      0.64      0.71        25\n",
      "           5       0.89      0.96      0.92        25\n",
      "           6       1.00      1.00      1.00        25\n",
      "           7       0.93      1.00      0.96        25\n",
      "\n",
      "    accuracy                           0.92       250\n",
      "   macro avg       0.90      0.91      0.90       250\n",
      "weighted avg       0.92      0.92      0.91       250\n",
      "\n"
     ]
    }
   ],
   "source": [
    "print (classification_report(y_test, y_pred))"
   ]
  }
 ],
 "metadata": {
  "kernelspec": {
   "display_name": "Python 3",
   "language": "python",
   "name": "python3"
  },
  "language_info": {
   "codemirror_mode": {
    "name": "ipython",
    "version": 3
   },
   "file_extension": ".py",
   "mimetype": "text/x-python",
   "name": "python",
   "nbconvert_exporter": "python",
   "pygments_lexer": "ipython3",
   "version": "3.6.3"
  }
 },
 "nbformat": 4,
 "nbformat_minor": 4
}
