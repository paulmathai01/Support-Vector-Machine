{
 "cells": [
  {
   "cell_type": "code",
   "execution_count": 2,
   "metadata": {},
   "outputs": [
    {
     "name": "stderr",
     "output_type": "stream",
     "text": [
      "/Users/paulmathai/.virtualenvs/keras_tf/lib/python3.6/site-packages/h5py/__init__.py:36: FutureWarning: Conversion of the second argument of issubdtype from `float` to `np.floating` is deprecated. In future, it will be treated as `np.float64 == np.dtype(float).type`.\n",
      "  from ._conv import register_converters as _register_converters\n",
      "Using TensorFlow backend.\n"
     ]
    }
   ],
   "source": [
    "# Importing required libraries\n",
    "import pandas as pd             \n",
    "import numpy as np                                    \n",
    "import keras\n",
    "from keras.models import Sequential                   \n",
    "from keras.layers import Dense, Activation             \n",
    "from keras.callbacks import History \n",
    "from sklearn.metrics import confusion_matrix          \n",
    "from sklearn import preprocessing\n",
    "from sklearn.model_selection import train_test_split  \n",
    "from sklearn.preprocessing import LabelBinarizer      \n",
    "from sklearn.model_selection import KFold\n",
    "from sklearn.svm import SVR\n",
    "from sklearn.model_selection import GridSearchCV\n",
    "from sklearn.metrics import accuracy_score\n",
    "from sklearn.metrics import classification_report\n",
    "import seaborn as sns                                \n",
    "import matplotlib.pyplot as plt                      \n",
    "%matplotlib inline\n",
    "np.random.seed(1)  "
   ]
  },
  {
   "cell_type": "code",
   "execution_count": 3,
   "metadata": {},
   "outputs": [],
   "source": [
    "# Load dataset from Keras\n",
    "#KEEP DATA IN THE SAME DIRECTORY ***RELATIVE FILE PATH***\n",
    "data = np.loadtxt(\"ion_data.txt\")\n",
    "(data_x, data_y) =(data[:, 0:7], data[:, 7:11])"
   ]
  },
  {
   "cell_type": "code",
   "execution_count": 4,
   "metadata": {},
   "outputs": [],
   "source": [
    "# Normalize x\n",
    "data_x = data_x.astype(float) / np.amax(data_x)"
   ]
  },
  {
   "cell_type": "code",
   "execution_count": 5,
   "metadata": {},
   "outputs": [
    {
     "name": "stdout",
     "output_type": "stream",
     "text": [
      "Shape of X_data (53, 10)\n",
      "Shape of x_train (53, 6)\n",
      "Shape of y_train (53, 4)\n"
     ]
    }
   ],
   "source": [
    "#Data Definitions\n",
    "\n",
    "data_df = pd.DataFrame(data=data, columns=[\"Run\",\"Pressure\", \"RF_Power\",\"Electrode Gap\",\"CCl4\",\"He\",\"O2\",\"Etch Rate - Rp Å/min\",\"Etch Uniformity – U (in %)\",\"Oxide Selectivity - Sox\",\"Photoresist Selectivity - Sph\"])\n",
    "data_x_df = pd.DataFrame(data=data_x, columns=[\"Run\",\"Pressure\", \"RF_Power\",\"Electrode Gap\",\"CCl4\",\"He\",\"O2\"])\n",
    "data_y_df =  pd.DataFrame(data=data_y, columns=[\"Etch Rate - Rp Å/min\",\"Etch Uniformity – U (in %)\",\"Oxide Selectivity - Sox\",\"Photoresist Selectivity - Sph\"])\n",
    "data_df = data_df.drop([\"Run\"], axis = 1)\n",
    "data_x_df = data_x_df.drop([\"Run\"], axis = 1)\n",
    "# Printing dimensions\n",
    "print(\"Shape of X_data\", data_df.shape)\n",
    "print(\"Shape of x_train\", data_x_df.shape)\n",
    "print(\"Shape of y_train\", data_y_df.shape)"
   ]
  },
  {
   "cell_type": "code",
   "execution_count": 6,
   "metadata": {},
   "outputs": [
    {
     "data": {
      "text/html": [
       "<div>\n",
       "<style scoped>\n",
       "    .dataframe tbody tr th:only-of-type {\n",
       "        vertical-align: middle;\n",
       "    }\n",
       "\n",
       "    .dataframe tbody tr th {\n",
       "        vertical-align: top;\n",
       "    }\n",
       "\n",
       "    .dataframe thead th {\n",
       "        text-align: right;\n",
       "    }\n",
       "</style>\n",
       "<table border=\"1\" class=\"dataframe\">\n",
       "  <thead>\n",
       "    <tr style=\"text-align: right;\">\n",
       "      <th></th>\n",
       "      <th>Pressure</th>\n",
       "      <th>RF_Power</th>\n",
       "      <th>Electrode Gap</th>\n",
       "      <th>CCl4</th>\n",
       "      <th>He</th>\n",
       "      <th>O2</th>\n",
       "      <th>Etch Rate - Rp Å/min</th>\n",
       "      <th>Etch Uniformity – U (in %)</th>\n",
       "      <th>Oxide Selectivity - Sox</th>\n",
       "      <th>Photoresist Selectivity - Sph</th>\n",
       "    </tr>\n",
       "  </thead>\n",
       "  <tbody>\n",
       "    <tr>\n",
       "      <th>count</th>\n",
       "      <td>53.000000</td>\n",
       "      <td>53.000000</td>\n",
       "      <td>53.000000</td>\n",
       "      <td>53.000000</td>\n",
       "      <td>53.000000</td>\n",
       "      <td>53.000000</td>\n",
       "      <td>53.000000</td>\n",
       "      <td>53.000000</td>\n",
       "      <td>53.000000</td>\n",
       "      <td>53.000000</td>\n",
       "    </tr>\n",
       "    <tr>\n",
       "      <th>mean</th>\n",
       "      <td>250.000000</td>\n",
       "      <td>350.000000</td>\n",
       "      <td>1.518868</td>\n",
       "      <td>124.962264</td>\n",
       "      <td>124.056604</td>\n",
       "      <td>15.000000</td>\n",
       "      <td>4204.283019</td>\n",
       "      <td>11.635849</td>\n",
       "      <td>6.988302</td>\n",
       "      <td>2.226981</td>\n",
       "    </tr>\n",
       "    <tr>\n",
       "      <th>std</th>\n",
       "      <td>45.641159</td>\n",
       "      <td>45.641159</td>\n",
       "      <td>0.285588</td>\n",
       "      <td>22.871684</td>\n",
       "      <td>62.203579</td>\n",
       "      <td>4.574175</td>\n",
       "      <td>689.441535</td>\n",
       "      <td>10.648241</td>\n",
       "      <td>2.186921</td>\n",
       "      <td>0.541315</td>\n",
       "    </tr>\n",
       "    <tr>\n",
       "      <th>min</th>\n",
       "      <td>131.000000</td>\n",
       "      <td>231.000000</td>\n",
       "      <td>0.800000</td>\n",
       "      <td>64.000000</td>\n",
       "      <td>0.000000</td>\n",
       "      <td>3.000000</td>\n",
       "      <td>2704.000000</td>\n",
       "      <td>0.500000</td>\n",
       "      <td>2.650000</td>\n",
       "      <td>1.320000</td>\n",
       "    </tr>\n",
       "    <tr>\n",
       "      <th>25%</th>\n",
       "      <td>200.000000</td>\n",
       "      <td>300.000000</td>\n",
       "      <td>1.200000</td>\n",
       "      <td>100.000000</td>\n",
       "      <td>50.000000</td>\n",
       "      <td>10.000000</td>\n",
       "      <td>3684.000000</td>\n",
       "      <td>3.900000</td>\n",
       "      <td>5.840000</td>\n",
       "      <td>1.970000</td>\n",
       "    </tr>\n",
       "    <tr>\n",
       "      <th>50%</th>\n",
       "      <td>250.000000</td>\n",
       "      <td>350.000000</td>\n",
       "      <td>1.500000</td>\n",
       "      <td>125.000000</td>\n",
       "      <td>125.000000</td>\n",
       "      <td>15.000000</td>\n",
       "      <td>4390.000000</td>\n",
       "      <td>8.300000</td>\n",
       "      <td>6.410000</td>\n",
       "      <td>2.100000</td>\n",
       "    </tr>\n",
       "    <tr>\n",
       "      <th>75%</th>\n",
       "      <td>300.000000</td>\n",
       "      <td>400.000000</td>\n",
       "      <td>1.800000</td>\n",
       "      <td>150.000000</td>\n",
       "      <td>200.000000</td>\n",
       "      <td>20.000000</td>\n",
       "      <td>4703.000000</td>\n",
       "      <td>15.100000</td>\n",
       "      <td>7.720000</td>\n",
       "      <td>2.310000</td>\n",
       "    </tr>\n",
       "    <tr>\n",
       "      <th>max</th>\n",
       "      <td>369.000000</td>\n",
       "      <td>469.000000</td>\n",
       "      <td>2.200000</td>\n",
       "      <td>184.000000</td>\n",
       "      <td>200.000000</td>\n",
       "      <td>27.000000</td>\n",
       "      <td>5515.000000</td>\n",
       "      <td>55.200000</td>\n",
       "      <td>15.150000</td>\n",
       "      <td>4.170000</td>\n",
       "    </tr>\n",
       "  </tbody>\n",
       "</table>\n",
       "</div>"
      ],
      "text/plain": [
       "         Pressure    RF_Power  Electrode Gap        CCl4          He  \\\n",
       "count   53.000000   53.000000      53.000000   53.000000   53.000000   \n",
       "mean   250.000000  350.000000       1.518868  124.962264  124.056604   \n",
       "std     45.641159   45.641159       0.285588   22.871684   62.203579   \n",
       "min    131.000000  231.000000       0.800000   64.000000    0.000000   \n",
       "25%    200.000000  300.000000       1.200000  100.000000   50.000000   \n",
       "50%    250.000000  350.000000       1.500000  125.000000  125.000000   \n",
       "75%    300.000000  400.000000       1.800000  150.000000  200.000000   \n",
       "max    369.000000  469.000000       2.200000  184.000000  200.000000   \n",
       "\n",
       "              O2  Etch Rate - Rp Å/min  Etch Uniformity – U (in %)  \\\n",
       "count  53.000000             53.000000                   53.000000   \n",
       "mean   15.000000           4204.283019                   11.635849   \n",
       "std     4.574175            689.441535                   10.648241   \n",
       "min     3.000000           2704.000000                    0.500000   \n",
       "25%    10.000000           3684.000000                    3.900000   \n",
       "50%    15.000000           4390.000000                    8.300000   \n",
       "75%    20.000000           4703.000000                   15.100000   \n",
       "max    27.000000           5515.000000                   55.200000   \n",
       "\n",
       "       Oxide Selectivity - Sox  Photoresist Selectivity - Sph  \n",
       "count                53.000000                      53.000000  \n",
       "mean                  6.988302                       2.226981  \n",
       "std                   2.186921                       0.541315  \n",
       "min                   2.650000                       1.320000  \n",
       "25%                   5.840000                       1.970000  \n",
       "50%                   6.410000                       2.100000  \n",
       "75%                   7.720000                       2.310000  \n",
       "max                  15.150000                       4.170000  "
      ]
     },
     "execution_count": 6,
     "metadata": {},
     "output_type": "execute_result"
    }
   ],
   "source": [
    "# General statistics for the data\n",
    "data_df.describe()"
   ]
  },
  {
   "cell_type": "code",
   "execution_count": 7,
   "metadata": {},
   "outputs": [
    {
     "data": {
      "text/html": [
       "<div>\n",
       "<style scoped>\n",
       "    .dataframe tbody tr th:only-of-type {\n",
       "        vertical-align: middle;\n",
       "    }\n",
       "\n",
       "    .dataframe tbody tr th {\n",
       "        vertical-align: top;\n",
       "    }\n",
       "\n",
       "    .dataframe thead th {\n",
       "        text-align: right;\n",
       "    }\n",
       "</style>\n",
       "<table border=\"1\" class=\"dataframe\">\n",
       "  <thead>\n",
       "    <tr style=\"text-align: right;\">\n",
       "      <th></th>\n",
       "      <th>Pressure</th>\n",
       "      <th>RF_Power</th>\n",
       "      <th>Electrode Gap</th>\n",
       "      <th>CCl4</th>\n",
       "      <th>He</th>\n",
       "      <th>O2</th>\n",
       "      <th>Etch Rate - Rp Å/min</th>\n",
       "      <th>Etch Uniformity – U (in %)</th>\n",
       "      <th>Oxide Selectivity - Sox</th>\n",
       "      <th>Photoresist Selectivity - Sph</th>\n",
       "    </tr>\n",
       "  </thead>\n",
       "  <tbody>\n",
       "    <tr>\n",
       "      <th>0</th>\n",
       "      <td>300.0</td>\n",
       "      <td>300.0</td>\n",
       "      <td>1.8</td>\n",
       "      <td>100.0</td>\n",
       "      <td>200.0</td>\n",
       "      <td>20.0</td>\n",
       "      <td>3491.0</td>\n",
       "      <td>14.2</td>\n",
       "      <td>6.48</td>\n",
       "      <td>2.01</td>\n",
       "    </tr>\n",
       "    <tr>\n",
       "      <th>1</th>\n",
       "      <td>200.0</td>\n",
       "      <td>400.0</td>\n",
       "      <td>1.8</td>\n",
       "      <td>100.0</td>\n",
       "      <td>50.0</td>\n",
       "      <td>10.0</td>\n",
       "      <td>3884.0</td>\n",
       "      <td>3.9</td>\n",
       "      <td>5.98</td>\n",
       "      <td>1.91</td>\n",
       "    </tr>\n",
       "    <tr>\n",
       "      <th>2</th>\n",
       "      <td>200.0</td>\n",
       "      <td>400.0</td>\n",
       "      <td>1.2</td>\n",
       "      <td>150.0</td>\n",
       "      <td>200.0</td>\n",
       "      <td>20.0</td>\n",
       "      <td>4931.0</td>\n",
       "      <td>24.8</td>\n",
       "      <td>5.39</td>\n",
       "      <td>1.85</td>\n",
       "    </tr>\n",
       "    <tr>\n",
       "      <th>3</th>\n",
       "      <td>300.0</td>\n",
       "      <td>400.0</td>\n",
       "      <td>1.8</td>\n",
       "      <td>150.0</td>\n",
       "      <td>200.0</td>\n",
       "      <td>20.0</td>\n",
       "      <td>4726.0</td>\n",
       "      <td>6.6</td>\n",
       "      <td>5.97</td>\n",
       "      <td>2.11</td>\n",
       "    </tr>\n",
       "    <tr>\n",
       "      <th>4</th>\n",
       "      <td>200.0</td>\n",
       "      <td>400.0</td>\n",
       "      <td>1.2</td>\n",
       "      <td>150.0</td>\n",
       "      <td>50.0</td>\n",
       "      <td>10.0</td>\n",
       "      <td>5089.0</td>\n",
       "      <td>12.4</td>\n",
       "      <td>5.61</td>\n",
       "      <td>2.16</td>\n",
       "    </tr>\n",
       "  </tbody>\n",
       "</table>\n",
       "</div>"
      ],
      "text/plain": [
       "   Pressure  RF_Power  Electrode Gap   CCl4     He    O2  \\\n",
       "0     300.0     300.0            1.8  100.0  200.0  20.0   \n",
       "1     200.0     400.0            1.8  100.0   50.0  10.0   \n",
       "2     200.0     400.0            1.2  150.0  200.0  20.0   \n",
       "3     300.0     400.0            1.8  150.0  200.0  20.0   \n",
       "4     200.0     400.0            1.2  150.0   50.0  10.0   \n",
       "\n",
       "   Etch Rate - Rp Å/min  Etch Uniformity – U (in %)  Oxide Selectivity - Sox  \\\n",
       "0                3491.0                        14.2                     6.48   \n",
       "1                3884.0                         3.9                     5.98   \n",
       "2                4931.0                        24.8                     5.39   \n",
       "3                4726.0                         6.6                     5.97   \n",
       "4                5089.0                        12.4                     5.61   \n",
       "\n",
       "   Photoresist Selectivity - Sph  \n",
       "0                           2.01  \n",
       "1                           1.91  \n",
       "2                           1.85  \n",
       "3                           2.11  \n",
       "4                           2.16  "
      ]
     },
     "execution_count": 7,
     "metadata": {},
     "output_type": "execute_result"
    }
   ],
   "source": [
    "# Checking if data is correct\n",
    "data_df.head()"
   ]
  },
  {
   "cell_type": "code",
   "execution_count": 8,
   "metadata": {},
   "outputs": [
    {
     "data": {
      "image/png": "[encoded data removed]",
      "text/plain": [
       "<Figure size 720x720 with 2 Axes>"
      ]
     },
     "metadata": {},
     "output_type": "display_data"
    }
   ],
   "source": [
    "# Getting correlation plot of normalized dataset\n",
    "corr = data_df.corr()\n",
    "plt.figure(figsize = (10,10))\n",
    "ax = sns.heatmap(corr, cmap=sns.diverging_palette(20, 220, n=200), annot = True, square=True)"
   ]
  },
  {
   "cell_type": "code",
   "execution_count": 9,
   "metadata": {},
   "outputs": [
    {
     "data": {
      "text/html": [
       "<div>\n",
       "<style scoped>\n",
       "    .dataframe tbody tr th:only-of-type {\n",
       "        vertical-align: middle;\n",
       "    }\n",
       "\n",
       "    .dataframe tbody tr th {\n",
       "        vertical-align: top;\n",
       "    }\n",
       "\n",
       "    .dataframe thead th {\n",
       "        text-align: right;\n",
       "    }\n",
       "</style>\n",
       "<table border=\"1\" class=\"dataframe\">\n",
       "  <thead>\n",
       "    <tr style=\"text-align: right;\">\n",
       "      <th></th>\n",
       "      <th>Pressure</th>\n",
       "      <th>RF_Power</th>\n",
       "      <th>Electrode Gap</th>\n",
       "      <th>CCl4</th>\n",
       "      <th>He</th>\n",
       "      <th>O2</th>\n",
       "    </tr>\n",
       "  </thead>\n",
       "  <tbody>\n",
       "    <tr>\n",
       "      <th>0</th>\n",
       "      <td>1.095502</td>\n",
       "      <td>-1.095502</td>\n",
       "      <td>0.984399</td>\n",
       "      <td>-1.091405</td>\n",
       "      <td>1.220885</td>\n",
       "      <td>1.093093</td>\n",
       "    </tr>\n",
       "    <tr>\n",
       "      <th>1</th>\n",
       "      <td>-1.095502</td>\n",
       "      <td>1.095502</td>\n",
       "      <td>0.984399</td>\n",
       "      <td>-1.091405</td>\n",
       "      <td>-1.190552</td>\n",
       "      <td>-1.093093</td>\n",
       "    </tr>\n",
       "    <tr>\n",
       "      <th>2</th>\n",
       "      <td>-1.095502</td>\n",
       "      <td>1.095502</td>\n",
       "      <td>-1.116533</td>\n",
       "      <td>1.094705</td>\n",
       "      <td>1.220885</td>\n",
       "      <td>1.093093</td>\n",
       "    </tr>\n",
       "    <tr>\n",
       "      <th>3</th>\n",
       "      <td>1.095502</td>\n",
       "      <td>1.095502</td>\n",
       "      <td>0.984399</td>\n",
       "      <td>1.094705</td>\n",
       "      <td>1.220885</td>\n",
       "      <td>1.093093</td>\n",
       "    </tr>\n",
       "    <tr>\n",
       "      <th>4</th>\n",
       "      <td>-1.095502</td>\n",
       "      <td>1.095502</td>\n",
       "      <td>-1.116533</td>\n",
       "      <td>1.094705</td>\n",
       "      <td>-1.190552</td>\n",
       "      <td>-1.093093</td>\n",
       "    </tr>\n",
       "  </tbody>\n",
       "</table>\n",
       "</div>"
      ],
      "text/plain": [
       "   Pressure  RF_Power  Electrode Gap      CCl4        He        O2\n",
       "0  1.095502 -1.095502       0.984399 -1.091405  1.220885  1.093093\n",
       "1 -1.095502  1.095502       0.984399 -1.091405 -1.190552 -1.093093\n",
       "2 -1.095502  1.095502      -1.116533  1.094705  1.220885  1.093093\n",
       "3  1.095502  1.095502       0.984399  1.094705  1.220885  1.093093\n",
       "4 -1.095502  1.095502      -1.116533  1.094705 -1.190552 -1.093093"
      ]
     },
     "execution_count": 9,
     "metadata": {},
     "output_type": "execute_result"
    }
   ],
   "source": [
    "#The above correlation shows that Oxide Selectivity and Photoresit sensitivity are highly correlated. \n",
    "#Similarly RF Power,Etch Uniformity and Etch Rate,He Flow are correlated respectively.\n",
    "\n",
    "#Normalising both X and Y to avoid variation in weightage for each \n",
    "normalized_X=(data_x_df-data_x_df.mean())/data_x_df.std()\n",
    "normalized_y=(data_y_df-data_y_df.mean())/data_y_df.std()\n",
    "normalized_X.head()"
   ]
  },
  {
   "cell_type": "code",
   "execution_count": 10,
   "metadata": {},
   "outputs": [
    {
     "data": {
      "text/plain": [
       "(array([1, 2, 3, 4, 5, 6]), <a list of 6 Text xticklabel objects>)"
      ]
     },
     "execution_count": 10,
     "metadata": {},
     "output_type": "execute_result"
    },
    {
     "data": {
      "image/png": "[encoded data removed]",
      "text/plain": [
       "<Figure size 432x288 with 1 Axes>"
      ]
     },
     "metadata": {},
     "output_type": "display_data"
    }
   ],
   "source": [
    "# Box plot to explolre the distributiom\n",
    "normalized_X.boxplot()\n",
    "plt.xticks(rotation = 90)"
   ]
  },
  {
   "cell_type": "code",
   "execution_count": 11,
   "metadata": {},
   "outputs": [
    {
     "data": {
      "image/png": "[encoded data removed]",
      "text/plain": [
       "<Figure size 576x576 with 1 Axes>"
      ]
     },
     "metadata": {},
     "output_type": "display_data"
    }
   ],
   "source": [
    "# Checking for Normalisatin of data\n",
    "plt.figure(figsize = (8,8))\n",
    "for i in normalized_y:\n",
    "    sns.distplot(normalized_y[i], hist = False, label = i)"
   ]
  },
  {
   "cell_type": "code",
   "execution_count": 17,
   "metadata": {},
   "outputs": [
    {
     "name": "stdout",
     "output_type": "stream",
     "text": [
      "Shape of input data:  (53, 6)\n",
      "Shape of output data:  (53, 4)\n"
     ]
    }
   ],
   "source": [
    "import sys\n",
    "X_np = np.asarray(normalized_X)\n",
    "y_np = np.asarray(normalized_y)\n",
    "print(\"Shape of input data: \", X_np.shape)\n",
    "print(\"Shape of output data: \", y_np.shape)\n",
    "# Preparing list of outputs values\n",
    "y_1 = y_np[:, 0]\n",
    "y_2 = y_np[:, 1]\n",
    "y_3 = y_np[:, 2]\n",
    "y_4 = y_np[:, 3]\n",
    "# Preparing list of outputs values\n",
    "y_list = [y_1, y_2, y_3, y_4]\n"
   ]
  },
  {
   "cell_type": "code",
   "execution_count": 21,
   "metadata": {
    "scrolled": true
   },
   "outputs": [
    {
     "name": "stdout",
     "output_type": "stream",
     "text": [
      "{'C': 10, 'gamma': 0.01, 'kernel': 'rbf'}\n",
      "{'C': 1, 'gamma': 0.01, 'kernel': 'rbf'}\n",
      "{'C': 1, 'gamma': 0.01, 'kernel': 'rbf'}\n",
      "{'C': 10, 'gamma': 0.001, 'kernel': 'rbf'}\n"
     ]
    }
   ],
   "source": [
    "# Hyper-parameter space to optimize SVM\n",
    "\n",
    "# Parameters options\n",
    "parameter_space = {'kernel': [ 'rbf', 'poly'], 'gamma': [0.001, 0.01, 0.1, 1], 'C': [0.001, 0.01, 0.1, 1, 10]}\n",
    "\n",
    "# Cross-validation split\n",
    "cv = KFold(10, shuffle=True, random_state=10)\n",
    "\n",
    "# Finding best parameters\n",
    "clf = GridSearchCV(SVR(),parameter_space, cv = cv)\n",
    "\n",
    "# Fit model to find best parameters to each output value column\n",
    "for columns in y_list:\n",
    "    clf.fit(X_np, columns)\n",
    "    print(clf.best_params_)"
   ]
  },
  {
   "cell_type": "code",
   "execution_count": 23,
   "metadata": {},
   "outputs": [
    {
     "name": "stdout",
     "output_type": "stream",
     "text": [
      "[-0.71118996  0.12843992  0.84189286  0.85675547  0.9586308  -1.00153457\n",
      "  1.32773708  0.26665816 -0.93059048  1.73528012 -1.14813025 -1.07196587\n",
      " -0.08231294  1.11840116 -0.65443642  0.03146443 -0.95936516 -0.057496\n",
      " -0.8908014  -0.80237802  0.62895868  0.96511735  0.02395327  0.30811578\n",
      "  0.26665816  0.26078269 -0.48817176 -0.29199082 -0.06684246 -1.89676825\n",
      "  0.96173524 -0.01007126  0.24054477  1.01824727  0.40871839 -0.52440918\n",
      " -1.54384228 -0.17084313  0.4667173   0.66066278  0.61883706  0.26665816\n",
      " -0.38625708  0.45772435  0.26665816  0.26665816 -0.18165434  0.26665816\n",
      "  1.70338825 -0.5011168   0.68492189  0.26665816  0.26665816]\n",
      "[-0.08299951 -0.40979506  0.20952652 -0.13512532 -0.33150423 -0.15615142\n",
      " -0.65208559 -0.2312813   0.02314945 -0.60230814  0.04415231  0.2010688\n",
      "  0.32178782 -0.71442614 -0.47270148  0.16428845  0.23644985 -0.60822681\n",
      " -0.30869153 -0.51144242  0.01634779 -0.30278933  0.12289482 -0.10801364\n",
      " -0.2312813  -0.54775362 -0.67043979 -0.052229   -0.39499177  0.14328055\n",
      " -0.51742949 -0.01499506 -0.7284385  -0.5160087  -0.26893128 -0.19675948\n",
      " -0.28337226  0.08340099 -0.0697472  -0.49552532 -0.73314566 -0.2312813\n",
      " -0.12189316 -0.30693319 -0.2312813  -0.2312813  -0.37668525 -0.2312813\n",
      " -0.1888859   0.03474679 -0.25951206 -0.2312813  -0.2312813 ]\n",
      "[ 0.00962244 -0.2442235  -0.63036973 -0.12710703 -0.32662083 -0.12957797\n",
      "  0.38580432 -0.11732612 -0.40538525  0.31694841 -0.22864674 -0.65915814\n",
      " -0.80491885  0.24351508  0.05961892 -0.56830054 -0.49670559  0.287687\n",
      " -0.19274374 -0.09183249 -0.35989017 -0.16284511 -0.69517312 -0.12187806\n",
      " -0.11732612  0.46303535  0.38060141 -0.06362213 -0.02878704 -0.57148138\n",
      " -0.07991611 -0.29248265  0.54698784  0.15364216 -0.11709993 -0.33891166\n",
      "  0.03073677 -0.38545165 -0.24104916  0.41212665  0.29359089 -0.11732612\n",
      " -0.14283974 -0.12673928 -0.11732612 -0.11732612 -0.04162379 -0.11732612\n",
      " -0.30864131 -0.67387111  0.04425667 -0.11732612 -0.11732612]\n",
      "[-2.63577952e-01 -3.84357493e-01 -5.96174661e-01 -3.95780211e-01\n",
      " -3.95396020e-02 -1.81273377e-03 -9.86315035e-02 -1.49077614e-01\n",
      " -5.57220850e-01  2.48127989e-01  9.02826566e-02 -2.03689114e-01\n",
      " -5.85185907e-01  1.64508798e-01 -2.59890111e-01 -9.41623099e-01\n",
      " -4.63012964e-01  6.40791053e-01  9.41446846e-02  8.84484242e-04\n",
      " -4.15142610e-02 -3.00244748e-01 -6.79486507e-01 -6.68763413e-01\n",
      " -1.49077614e-01  3.80477146e-01  2.97273760e-01  8.05788330e-02\n",
      "  8.27478041e-02 -5.45911510e-01 -3.94016987e-01 -3.87832122e-01\n",
      "  2.26282851e-01  2.56184845e-01 -8.61448909e-02  1.29376015e-02\n",
      "  1.57444436e-01 -3.62397255e-01  1.05213127e-01  3.50915614e-01\n",
      "  2.03622353e-01 -1.49077614e-01 -3.04575656e-01 -2.45180443e-03\n",
      " -1.49077614e-01 -1.49077614e-01 -4.05797926e-01 -1.49077614e-01\n",
      " -4.58672473e-01 -6.50320078e-01 -3.12299268e-01 -1.49077614e-01\n",
      " -1.49077614e-01]\n"
     ]
    }
   ],
   "source": [
    "predict_list = []\n",
    "for columns in y_list:\n",
    "    clf.fit(X_np, columns)\n",
    "    predict = clf.predict(X_np)\n",
    "    print(predict)\n",
    "    predict_list.append(predict)"
   ]
  },
  {
   "cell_type": "code",
   "execution_count": 24,
   "metadata": {},
   "outputs": [
    {
     "data": {
      "text/plain": [
       "(53, 4)"
      ]
     },
     "execution_count": 24,
     "metadata": {},
     "output_type": "execute_result"
    }
   ],
   "source": [
    "predict_arr = np.asarray(predict_list)\n",
    "predict_arr_1 = predict_arr.transpose()\n",
    "predict_arr_1.shape"
   ]
  },
  {
   "cell_type": "code",
   "execution_count": 25,
   "metadata": {},
   "outputs": [],
   "source": [
    "variation_1 = np.var(predict_arr_1[0])"
   ]
  },
  {
   "cell_type": "code",
   "execution_count": 26,
   "metadata": {},
   "outputs": [
    {
     "data": {
      "text/plain": [
       "0.07689850813600675"
      ]
     },
     "execution_count": 26,
     "metadata": {},
     "output_type": "execute_result"
    }
   ],
   "source": [
    "variation_1"
   ]
  },
  {
   "cell_type": "code",
   "execution_count": 27,
   "metadata": {},
   "outputs": [
    {
     "data": {
      "text/plain": [
       "-0.2620362431782408"
      ]
     },
     "execution_count": 27,
     "metadata": {},
     "output_type": "execute_result"
    }
   ],
   "source": [
    "mean_1 = np.mean(predict_arr_1[0])\n",
    "mean_1"
   ]
  },
  {
   "cell_type": "code",
   "execution_count": 28,
   "metadata": {},
   "outputs": [
    {
     "data": {
      "text/plain": [
       "2.0947604238210502e-17"
      ]
     },
     "execution_count": 28,
     "metadata": {},
     "output_type": "execute_result"
    }
   ],
   "source": [
    "np.mean(y_1)"
   ]
  },
  {
   "cell_type": "code",
   "execution_count": 29,
   "metadata": {},
   "outputs": [
    {
     "data": {
      "text/plain": [
       "0.9811320754716983"
      ]
     },
     "execution_count": 29,
     "metadata": {},
     "output_type": "execute_result"
    }
   ],
   "source": [
    "np.var(y_1)"
   ]
  },
  {
   "cell_type": "code",
   "execution_count": 30,
   "metadata": {},
   "outputs": [],
   "source": [
    "# Training the model using best parameters\n",
    "\n",
    "parameter_space = {'kernel': ['linear'], 'gamma': [0.001], 'C': [0.001]}\n",
    "\n",
    "# Cross-validation split\n",
    "cv2 = KFold(10, shuffle=True, random_state=10)\n",
    "\n",
    "\n",
    "# Building and Evaluating Model\n",
    "clf = GridSearchCV(SVR(),parameter_space, cv = cv2)\n",
    "clf.fit(X_np, y_1)\n",
    "y_pred = clf.predict(X_np)"
   ]
  },
  {
   "cell_type": "code",
   "execution_count": 31,
   "metadata": {},
   "outputs": [
    {
     "name": "stdout",
     "output_type": "stream",
     "text": [
      "Shape of X_train (42, 6)\n",
      "Shape of X_test (11, 6)\n",
      "Shape of y_1_train (42,)\n",
      "Shape of y_1_test (11,)\n"
     ]
    }
   ],
   "source": [
    "# Hyper-parameter space to optimize SVM\n",
    "\n",
    "# Parameters options\n",
    "parameter_space = {'kernel': ['linear', 'rbf'], 'gamma': [0.001, 0.01, 0.1, 1], 'C': [0.001, 0.01, 0.1, 1, 10]}\n",
    "\n",
    "# Cross-validation split\n",
    "cv3 = KFold(10, shuffle=True, random_state=10)\n",
    "\n",
    "clf = GridSearchCV(SVR(),parameter_space, cv = cv3)\n",
    "\n",
    "X_train, X_test, y_1_train, y_1_test = train_test_split(X_np, y_1, test_size=0.2)\n",
    "X_train, X_test, y_2_train, y_2_test = train_test_split(X_np, y_2, test_size=0.2)\n",
    "X_train, X_test, y_3_train, y_3_test = train_test_split(X_np, y_3, test_size=0.2)\n",
    "X_train, X_test, y_4_train, y_4_test = train_test_split(X_np, y_4, test_size=0.2)\n",
    "\n",
    "# Printing dimensions\n",
    "print(\"Shape of X_train\", X_train.shape)\n",
    "print(\"Shape of X_test\", X_test.shape)\n",
    "print(\"Shape of y_1_train\", y_1_train.shape)\n",
    "print(\"Shape of y_1_test\", y_1_test.shape)"
   ]
  },
  {
   "cell_type": "code",
   "execution_count": 32,
   "metadata": {},
   "outputs": [
    {
     "name": "stdout",
     "output_type": "stream",
     "text": [
      "[-0.0336497   0.16618593  0.16999944  0.16892227  0.16917945  0.16896355\n",
      "  0.16958995  0.16811962  0.12378479  0.16900509  0.16852176]\n"
     ]
    }
   ],
   "source": [
    "#for X_train, X_test, y_1_train, y_1_test in train_test_split(X_np, y_1, test_size=0.2):\n",
    "clf.fit(X_train, y_1_train)\n",
    "y_1_pred = clf.predict(X_test)\n",
    "print(y_1_pred)"
   ]
  },
  {
   "cell_type": "code",
   "execution_count": 33,
   "metadata": {},
   "outputs": [
    {
     "name": "stdout",
     "output_type": "stream",
     "text": [
      "[-0.21634182 -0.21911653 -0.21845682 -0.21837294 -0.21849592 -0.21829707\n",
      " -0.21843341 -0.21830535 -0.21744494 -0.21827551 -0.21829493]\n"
     ]
    }
   ],
   "source": [
    "clf.fit(X_train, y_2_train)\n",
    "y_2_pred = clf.predict(X_test)\n",
    "print(y_2_pred)"
   ]
  },
  {
   "cell_type": "code",
   "execution_count": 34,
   "metadata": {},
   "outputs": [
    {
     "name": "stdout",
     "output_type": "stream",
     "text": [
      "[-0.3660349  -0.54599056 -0.01613916  0.29239993 -0.34707065 -0.35064657\n",
      "  0.06878391 -0.32164123 -0.09578763 -0.18519219 -0.07874258]\n"
     ]
    }
   ],
   "source": [
    "clf.fit(X_train, y_3_train)\n",
    "y_3_pred = clf.predict(X_test)\n",
    "print(y_3_pred)"
   ]
  },
  {
   "cell_type": "code",
   "execution_count": 35,
   "metadata": {},
   "outputs": [
    {
     "name": "stdout",
     "output_type": "stream",
     "text": [
      "[-0.23183193  0.00153005 -0.49070436 -0.42101144 -0.03189101 -0.21400813\n",
      " -0.36167251 -0.03405284 -0.37184911 -0.10199134 -0.16308469]\n"
     ]
    }
   ],
   "source": [
    "clf.fit(X_train, y_4_train)\n",
    "y_4_pred = clf.predict(X_test)\n",
    "print(y_4_pred)"
   ]
  },
  {
   "cell_type": "code",
   "execution_count": 38,
   "metadata": {},
   "outputs": [
    {
     "name": "stdout",
     "output_type": "stream",
     "text": [
      "Variation Predicted values:  0.22950807936490605\n",
      "Variation True values:  0.9811320754716981\n"
     ]
    }
   ],
   "source": [
    "print(\"Variation Predicted values: \", np.var(predict_arr_1))\n",
    "print(\"Variation True values: \", np.var(y_np))"
   ]
  },
  {
   "cell_type": "code",
   "execution_count": null,
   "metadata": {},
   "outputs": [],
   "source": []
  }
 ],
 "metadata": {
  "kernelspec": {
   "display_name": "Python 3",
   "language": "python",
   "name": "python3"
  },
  "language_info": {
   "codemirror_mode": {
    "name": "ipython",
    "version": 3
   },
   "file_extension": ".py",
   "mimetype": "text/x-python",
   "name": "python",
   "nbconvert_exporter": "python",
   "pygments_lexer": "ipython3",
   "version": "3.6.3"
  }
 },
 "nbformat": 4,
 "nbformat_minor": 4
}
