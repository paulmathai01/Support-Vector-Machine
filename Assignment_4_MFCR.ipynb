{
 "cells": [
  {
   "cell_type": "code",
   "execution_count": 2,
   "metadata": {},
   "outputs": [
    {
     "name": "stderr",
     "output_type": "stream",
     "text": [
      "/Users/paulmathai/.virtualenvs/keras_tf/lib/python3.6/site-packages/h5py/__init__.py:36: FutureWarning: Conversion of the second argument of issubdtype from `float` to `np.floating` is deprecated. In future, it will be treated as `np.float64 == np.dtype(float).type`.\n",
      "  from ._conv import register_converters as _register_converters\n",
      "Using TensorFlow backend.\n"
     ]
    }
   ],
   "source": [
    "# Importing required libraries\n",
    "import pandas as pd                                   \n",
    "import numpy as np                                    \n",
    "import keras\n",
    "from sklearn.model_selection import GridSearchCV\n",
    "from sklearn.svm import SVC\n",
    "from sklearn.model_selection import StratifiedShuffleSplit\n",
    "from keras.models import Sequential                   \n",
    "from keras.layers import Dense, Activation            \n",
    "from keras.callbacks import History \n",
    "from sklearn.metrics import confusion_matrix          \n",
    "from sklearn import preprocessing\n",
    "from sklearn.model_selection import train_test_split  \n",
    "from sklearn.preprocessing import LabelBinarizer    \n",
    "from sklearn.model_selection import KFold\n",
    "from sklearn.metrics import confusion_matrix\n",
    "from sklearn.metrics import accuracy_score\n",
    "from sklearn.metrics import classification_report\n",
    "import seaborn as sns                                 \n",
    "import matplotlib.pyplot as plt                       \n",
    "%matplotlib inline\n",
    "\n",
    "np.random.seed(1)  "
   ]
  },
  {
   "cell_type": "code",
   "execution_count": 3,
   "metadata": {},
   "outputs": [],
   "source": [
    "# Load dataset from Keras\n",
    "#KEEP DATA IN THE SAME DIRECTORY ***RELATIVE FILE PATH***\n",
    "data_np = np.loadtxt(\"mfcr_train.txt\")\n",
    "data2_np = np.loadtxt(\"mfcr_test.txt\")"
   ]
  },
  {
   "cell_type": "code",
   "execution_count": 4,
   "metadata": {},
   "outputs": [],
   "source": [
    "(X_train_np, y_train_np), (X_test_np, y_test_np) =(data_np[:, 0:14], data_np[:, 14:40]), (data2_np[:, 0:14], data2_np[:, 14:40])"
   ]
  },
  {
   "cell_type": "code",
   "execution_count": 6,
   "metadata": {},
   "outputs": [
    {
     "name": "stdout",
     "output_type": "stream",
     "text": [
      "Shape of X_train (78, 14)\n",
      "Shape of y_train (78, 26)\n",
      "Shape of X_test (78, 14)\n",
      "Shape of y_test (78, 26)\n"
     ]
    }
   ],
   "source": [
    "# Normalize x\n",
    "X_train_np = X_train_np.astype(float) / np.amax(X_train_np)\n",
    "X_test_np = X_test_np.astype(float) / np.amax(X_test_np)\n",
    "\n",
    "# Flatten input: Changing dimension of input images from N*28*28 to N*784\n",
    "X_train_np = X_train_np.reshape([X_train_np.shape[0], -1])\n",
    "X_test_np = X_test_np.reshape([X_test_np.shape[0], -1])\n",
    "\n",
    "# Transforming y using Label Binarizer from Scikit Learn\n",
    "lb = LabelBinarizer()\n",
    "y_test1_np =  data2_np[:, 14:40]\n",
    "y_train_np = lb.fit_transform(y_train_np)\n",
    "y_test_1_np  = y_test_np\n",
    "y_test_np = lb.fit_transform(y_test_np)\n",
    "\n",
    "\n",
    "# Printing dimensions\n",
    "print(\"Shape of X_train\", X_train_np.shape)\n",
    "print(\"Shape of y_train\", y_train_np.shape)\n",
    "print(\"Shape of X_test\", X_test_np.shape)\n",
    "print(\"Shape of y_test\", y_test_np.shape)\n",
    "    \n",
    "# Splitting training data in training and validation data\n",
    "#X_train, X_val, y_train, y_val = train_test_split(X_train, y_train, test_size = 0.2, random_state = 10)"
   ]
  },
  {
   "cell_type": "code",
   "execution_count": 7,
   "metadata": {},
   "outputs": [
    {
     "data": {
      "text/html": [
       "<div>\n",
       "<style scoped>\n",
       "    .dataframe tbody tr th:only-of-type {\n",
       "        vertical-align: middle;\n",
       "    }\n",
       "\n",
       "    .dataframe tbody tr th {\n",
       "        vertical-align: top;\n",
       "    }\n",
       "\n",
       "    .dataframe thead th {\n",
       "        text-align: right;\n",
       "    }\n",
       "</style>\n",
       "<table border=\"1\" class=\"dataframe\">\n",
       "  <thead>\n",
       "    <tr style=\"text-align: right;\">\n",
       "      <th></th>\n",
       "      <th>0</th>\n",
       "      <th>1</th>\n",
       "      <th>2</th>\n",
       "      <th>3</th>\n",
       "      <th>4</th>\n",
       "      <th>5</th>\n",
       "      <th>6</th>\n",
       "      <th>7</th>\n",
       "      <th>8</th>\n",
       "      <th>9</th>\n",
       "      <th>10</th>\n",
       "      <th>11</th>\n",
       "      <th>12</th>\n",
       "      <th>13</th>\n",
       "    </tr>\n",
       "  </thead>\n",
       "  <tbody>\n",
       "    <tr>\n",
       "      <th>0</th>\n",
       "      <td>0.258065</td>\n",
       "      <td>0.000000</td>\n",
       "      <td>0.000000</td>\n",
       "      <td>0.000000</td>\n",
       "      <td>0.0</td>\n",
       "      <td>0.000000</td>\n",
       "      <td>0.000000</td>\n",
       "      <td>0.000000</td>\n",
       "      <td>0.000000</td>\n",
       "      <td>0.000000</td>\n",
       "      <td>0.000000</td>\n",
       "      <td>0.032258</td>\n",
       "      <td>0.000000</td>\n",
       "      <td>0.258065</td>\n",
       "    </tr>\n",
       "    <tr>\n",
       "      <th>1</th>\n",
       "      <td>0.225806</td>\n",
       "      <td>0.000000</td>\n",
       "      <td>0.000000</td>\n",
       "      <td>0.000000</td>\n",
       "      <td>0.0</td>\n",
       "      <td>0.000000</td>\n",
       "      <td>0.000000</td>\n",
       "      <td>0.000000</td>\n",
       "      <td>0.000000</td>\n",
       "      <td>0.000000</td>\n",
       "      <td>0.000000</td>\n",
       "      <td>0.000000</td>\n",
       "      <td>0.000000</td>\n",
       "      <td>0.354839</td>\n",
       "    </tr>\n",
       "    <tr>\n",
       "      <th>2</th>\n",
       "      <td>0.387097</td>\n",
       "      <td>0.322581</td>\n",
       "      <td>0.032258</td>\n",
       "      <td>0.032258</td>\n",
       "      <td>0.0</td>\n",
       "      <td>0.000000</td>\n",
       "      <td>0.000000</td>\n",
       "      <td>0.129032</td>\n",
       "      <td>0.193548</td>\n",
       "      <td>0.000000</td>\n",
       "      <td>0.000000</td>\n",
       "      <td>0.000000</td>\n",
       "      <td>0.000000</td>\n",
       "      <td>0.064516</td>\n",
       "    </tr>\n",
       "    <tr>\n",
       "      <th>3</th>\n",
       "      <td>0.677419</td>\n",
       "      <td>0.322581</td>\n",
       "      <td>0.129032</td>\n",
       "      <td>0.129032</td>\n",
       "      <td>0.0</td>\n",
       "      <td>0.032258</td>\n",
       "      <td>0.032258</td>\n",
       "      <td>0.000000</td>\n",
       "      <td>0.161290</td>\n",
       "      <td>0.000000</td>\n",
       "      <td>0.064516</td>\n",
       "      <td>0.000000</td>\n",
       "      <td>0.000000</td>\n",
       "      <td>0.064516</td>\n",
       "    </tr>\n",
       "    <tr>\n",
       "      <th>4</th>\n",
       "      <td>0.870968</td>\n",
       "      <td>0.387097</td>\n",
       "      <td>0.096774</td>\n",
       "      <td>0.096774</td>\n",
       "      <td>0.0</td>\n",
       "      <td>0.258065</td>\n",
       "      <td>0.000000</td>\n",
       "      <td>0.161290</td>\n",
       "      <td>0.000000</td>\n",
       "      <td>0.064516</td>\n",
       "      <td>0.000000</td>\n",
       "      <td>0.000000</td>\n",
       "      <td>0.064516</td>\n",
       "      <td>0.000000</td>\n",
       "    </tr>\n",
       "  </tbody>\n",
       "</table>\n",
       "</div>"
      ],
      "text/plain": [
       "          0         1         2         3    4         5         6         7  \\\n",
       "0  0.258065  0.000000  0.000000  0.000000  0.0  0.000000  0.000000  0.000000   \n",
       "1  0.225806  0.000000  0.000000  0.000000  0.0  0.000000  0.000000  0.000000   \n",
       "2  0.387097  0.322581  0.032258  0.032258  0.0  0.000000  0.000000  0.129032   \n",
       "3  0.677419  0.322581  0.129032  0.129032  0.0  0.032258  0.032258  0.000000   \n",
       "4  0.870968  0.387097  0.096774  0.096774  0.0  0.258065  0.000000  0.161290   \n",
       "\n",
       "          8         9        10        11        12        13  \n",
       "0  0.000000  0.000000  0.000000  0.032258  0.000000  0.258065  \n",
       "1  0.000000  0.000000  0.000000  0.000000  0.000000  0.354839  \n",
       "2  0.193548  0.000000  0.000000  0.000000  0.000000  0.064516  \n",
       "3  0.161290  0.000000  0.064516  0.000000  0.000000  0.064516  \n",
       "4  0.000000  0.064516  0.000000  0.000000  0.064516  0.000000  "
      ]
     },
     "execution_count": 7,
     "metadata": {},
     "output_type": "execute_result"
    }
   ],
   "source": [
    "X_train_df = pd.DataFrame({'0': X_train_np[:, 0], '1': X_train_np[:, 1],'2': X_train_np[:, 2],'3': X_train_np[:, 3],'4': X_train_np[:, 4],'5': X_train_np[:, 5],'6': X_train_np[:, 6],'7': X_train_np[:, 7],'8': X_train_np[:, 8],'9': X_train_np[:, 9],'10': X_train_np[:, 10],'11': X_train_np[:, 11],'12': X_train_np[:, 12],'13': X_train_np[:, 13]})\n",
    "y_train_df = pd.DataFrame({'0': y_train_np[:, 0], '1': y_train_np[:, 1],'2': y_train_np[:, 2],'3': y_train_np[:, 3],'4': y_train_np[:, 4],'5': y_train_np[:, 5],'6': y_train_np[:, 6],'7': y_train_np[:, 7],'8': y_train_np[:, 6],'9': y_train_np[:, 6],'10': y_train_np[:, 10],'11': y_train_np[:, 11],'12': y_train_np[:, 12],'13': y_train_np[:, 13],'14': y_train_np[:,14],'15': y_train_np[:, 15],'16': y_train_np[:, 16],'17': y_train_np[:, 17],'18': y_train_np[:, 18],'19': y_train_np[:, 19],'20': y_train_np[:, 20],'21': y_train_np[:, 21],'22': y_train_np[:, 22],'23': y_train_np[:, 23],'24': y_train_np[:, 24],'25': y_train_np[:, 25]})\n",
    "X_train_df.head()"
   ]
  },
  {
   "cell_type": "code",
   "execution_count": 8,
   "metadata": {},
   "outputs": [
    {
     "data": {
      "text/html": [
       "<div>\n",
       "<style scoped>\n",
       "    .dataframe tbody tr th:only-of-type {\n",
       "        vertical-align: middle;\n",
       "    }\n",
       "\n",
       "    .dataframe tbody tr th {\n",
       "        vertical-align: top;\n",
       "    }\n",
       "\n",
       "    .dataframe thead th {\n",
       "        text-align: right;\n",
       "    }\n",
       "</style>\n",
       "<table border=\"1\" class=\"dataframe\">\n",
       "  <thead>\n",
       "    <tr style=\"text-align: right;\">\n",
       "      <th></th>\n",
       "      <th>0</th>\n",
       "      <th>1</th>\n",
       "      <th>2</th>\n",
       "      <th>3</th>\n",
       "      <th>4</th>\n",
       "      <th>5</th>\n",
       "      <th>6</th>\n",
       "      <th>7</th>\n",
       "      <th>8</th>\n",
       "      <th>9</th>\n",
       "      <th>10</th>\n",
       "      <th>11</th>\n",
       "      <th>12</th>\n",
       "      <th>13</th>\n",
       "    </tr>\n",
       "  </thead>\n",
       "  <tbody>\n",
       "    <tr>\n",
       "      <th>0</th>\n",
       "      <td>0.225806</td>\n",
       "      <td>0.000000</td>\n",
       "      <td>0.000000</td>\n",
       "      <td>0.000000</td>\n",
       "      <td>0.0</td>\n",
       "      <td>0.000000</td>\n",
       "      <td>0.000000</td>\n",
       "      <td>0.00000</td>\n",
       "      <td>0.0</td>\n",
       "      <td>0.000000</td>\n",
       "      <td>0.000000</td>\n",
       "      <td>0.0</td>\n",
       "      <td>0.000000</td>\n",
       "      <td>0.419355</td>\n",
       "    </tr>\n",
       "    <tr>\n",
       "      <th>1</th>\n",
       "      <td>0.225806</td>\n",
       "      <td>0.000000</td>\n",
       "      <td>0.000000</td>\n",
       "      <td>0.000000</td>\n",
       "      <td>0.0</td>\n",
       "      <td>0.000000</td>\n",
       "      <td>0.000000</td>\n",
       "      <td>0.00000</td>\n",
       "      <td>0.0</td>\n",
       "      <td>0.000000</td>\n",
       "      <td>0.000000</td>\n",
       "      <td>0.0</td>\n",
       "      <td>0.000000</td>\n",
       "      <td>0.354839</td>\n",
       "    </tr>\n",
       "    <tr>\n",
       "      <th>2</th>\n",
       "      <td>0.193548</td>\n",
       "      <td>0.161290</td>\n",
       "      <td>0.000000</td>\n",
       "      <td>0.193548</td>\n",
       "      <td>0.0</td>\n",
       "      <td>0.000000</td>\n",
       "      <td>0.290323</td>\n",
       "      <td>0.00000</td>\n",
       "      <td>0.0</td>\n",
       "      <td>0.000000</td>\n",
       "      <td>0.032258</td>\n",
       "      <td>0.0</td>\n",
       "      <td>0.000000</td>\n",
       "      <td>0.000000</td>\n",
       "    </tr>\n",
       "    <tr>\n",
       "      <th>3</th>\n",
       "      <td>0.870968</td>\n",
       "      <td>0.451613</td>\n",
       "      <td>0.064516</td>\n",
       "      <td>0.064516</td>\n",
       "      <td>0.0</td>\n",
       "      <td>0.258065</td>\n",
       "      <td>0.000000</td>\n",
       "      <td>0.16129</td>\n",
       "      <td>0.0</td>\n",
       "      <td>0.064516</td>\n",
       "      <td>0.000000</td>\n",
       "      <td>0.0</td>\n",
       "      <td>0.064516</td>\n",
       "      <td>0.000000</td>\n",
       "    </tr>\n",
       "    <tr>\n",
       "      <th>4</th>\n",
       "      <td>0.870968</td>\n",
       "      <td>0.387097</td>\n",
       "      <td>0.064516</td>\n",
       "      <td>0.064516</td>\n",
       "      <td>0.0</td>\n",
       "      <td>0.258065</td>\n",
       "      <td>0.000000</td>\n",
       "      <td>0.16129</td>\n",
       "      <td>0.0</td>\n",
       "      <td>0.064516</td>\n",
       "      <td>0.000000</td>\n",
       "      <td>0.0</td>\n",
       "      <td>0.064516</td>\n",
       "      <td>0.000000</td>\n",
       "    </tr>\n",
       "  </tbody>\n",
       "</table>\n",
       "</div>"
      ],
      "text/plain": [
       "          0         1         2         3    4         5         6        7  \\\n",
       "0  0.225806  0.000000  0.000000  0.000000  0.0  0.000000  0.000000  0.00000   \n",
       "1  0.225806  0.000000  0.000000  0.000000  0.0  0.000000  0.000000  0.00000   \n",
       "2  0.193548  0.161290  0.000000  0.193548  0.0  0.000000  0.290323  0.00000   \n",
       "3  0.870968  0.451613  0.064516  0.064516  0.0  0.258065  0.000000  0.16129   \n",
       "4  0.870968  0.387097  0.064516  0.064516  0.0  0.258065  0.000000  0.16129   \n",
       "\n",
       "     8         9        10   11        12        13  \n",
       "0  0.0  0.000000  0.000000  0.0  0.000000  0.419355  \n",
       "1  0.0  0.000000  0.000000  0.0  0.000000  0.354839  \n",
       "2  0.0  0.000000  0.032258  0.0  0.000000  0.000000  \n",
       "3  0.0  0.064516  0.000000  0.0  0.064516  0.000000  \n",
       "4  0.0  0.064516  0.000000  0.0  0.064516  0.000000  "
      ]
     },
     "execution_count": 8,
     "metadata": {},
     "output_type": "execute_result"
    }
   ],
   "source": [
    "X_test_df = pd.DataFrame({'0': X_test_np[:, 0], '1': X_test_np[:, 1],'2': X_test_np[:, 2],'3': X_test_np[:, 3],'4': X_test_np[:, 4],'5': X_test_np[:, 5],'6': X_test_np[:, 6],'7': X_test_np[:, 7],'8': X_test_np[:, 8],'9': X_test_np[:, 9],'10': X_test_np[:, 10],'11': X_test_np[:, 11],'12': X_test_np[:, 12],'13': X_test_np[:, 13]})\n",
    "y_test_df = pd.DataFrame({'0': y_test_np[:, 0], '1': y_test_np[:, 1],'2': y_test_np[:, 2],'3': y_test_np[:, 3],'4': y_test_np[:, 4],'5': y_test_np[:, 5],'6': y_test_np[:, 6],'7': y_test_np[:, 7],'8': y_test_np[:, 6],'9': y_test_np[:, 6],'10': y_test_np[:, 10],'11': y_test_np[:, 11],'12': y_test_np[:, 12],'13': y_test_np[:, 13],'14': y_test_np[:,14],'15': y_test_np[:, 15],'16': y_test_np[:, 16],'17': y_test_np[:, 17],'18': y_test_np[:, 18],'19': y_test_np[:, 19],'20': y_test_np[:, 20],'21': y_test_np[:, 21],'22': y_test_np[:, 22],'23': y_test_np[:, 23],'24': y_test_np[:, 24],'25': y_test_np[:, 25]})\n",
    "X_test_df.head()"
   ]
  },
  {
   "cell_type": "code",
   "execution_count": 9,
   "metadata": {},
   "outputs": [
    {
     "data": {
      "text/plain": [
       "<matplotlib.axes._subplots.AxesSubplot at 0x13f5176a0>"
      ]
     },
     "execution_count": 9,
     "metadata": {},
     "output_type": "execute_result"
    },
    {
     "data": {
      "image/png": "[encoded data removed]",
      "text/plain": [
       "<Figure size 432x288 with 1 Axes>"
      ]
     },
     "metadata": {},
     "output_type": "display_data"
    }
   ],
   "source": [
    "X_train_df.boxplot()"
   ]
  },
  {
   "cell_type": "code",
   "execution_count": 10,
   "metadata": {},
   "outputs": [
    {
     "data": {
      "image/png": "[encoded data removed]",
      "text/plain": [
       "<Figure size 432x288 with 1 Axes>"
      ]
     },
     "metadata": {},
     "output_type": "display_data"
    }
   ],
   "source": [
    "for i in X_train_df:\n",
    "    sns.distplot(X_train_df[i], hist = False, label = i)"
   ]
  },
  {
   "cell_type": "code",
   "execution_count": 11,
   "metadata": {},
   "outputs": [
    {
     "data": {
      "image/png": "[encoded data removed]",
      "text/plain": [
       "<Figure size 432x288 with 1 Axes>"
      ]
     },
     "metadata": {},
     "output_type": "display_data"
    }
   ],
   "source": [
    "normalized_X_train_df=(X_train_df-X_train_df.mean())/X_train_df.std()\n",
    "normalized_X_test_df=(X_test_df-X_test_df.mean())/X_test_df.std()\n",
    "for i in normalized_X_train_df:\n",
    "    sns.distplot(normalized_X_train_df[i], hist = False, label = i)"
   ]
  },
  {
   "cell_type": "code",
   "execution_count": 12,
   "metadata": {},
   "outputs": [
    {
     "data": {
      "text/plain": [
       "<matplotlib.axes._subplots.AxesSubplot at 0x141a566d8>"
      ]
     },
     "execution_count": 12,
     "metadata": {},
     "output_type": "execute_result"
    },
    {
     "data": {
      "image/png": "[encoded data removed]",
      "text/plain": [
       "<Figure size 432x288 with 1 Axes>"
      ]
     },
     "metadata": {},
     "output_type": "display_data"
    }
   ],
   "source": [
    "normalized_X_train_df.boxplot()"
   ]
  },
  {
   "cell_type": "code",
   "execution_count": 13,
   "metadata": {},
   "outputs": [],
   "source": [
    "count = 1\n",
    "cls = 1\n",
    "Y_class = []\n",
    "for i in range (104):\n",
    "    if count == 4:\n",
    "        count = 1\n",
    "        cls +=1\n",
    "    else:\n",
    "        Y_class.append(cls)\n",
    "        count += 1\n",
    "\n",
    "Y_class_arr = np.asarray(Y_class)"
   ]
  },
  {
   "cell_type": "code",
   "execution_count": 14,
   "metadata": {},
   "outputs": [
    {
     "name": "stdout",
     "output_type": "stream",
     "text": [
      "{'C': 10, 'gamma': 1, 'kernel': 'rbf'}\n"
     ]
    }
   ],
   "source": [
    "\n",
    "# Parameters options\n",
    "parameter_space = {'kernel': ['linear', 'rbf'], 'gamma': [0.001, 0.01, 0.1, 1], 'C': [0.001, 0.01, 0.1, 1, 10]}\n",
    "\n",
    "# Cross-validation split\n",
    "cv = StratifiedShuffleSplit(n_splits = 14, test_size=0.6, random_state = 1)\n",
    "\n",
    "# Finding best parameters\n",
    "clf = GridSearchCV(SVC(),parameter_space, cv = cv)\n",
    "clf.fit(X_train_np, Y_class_arr)\n",
    "print(clf.best_params_)"
   ]
  },
  {
   "cell_type": "code",
   "execution_count": 15,
   "metadata": {},
   "outputs": [
    {
     "name": "stdout",
     "output_type": "stream",
     "text": [
      "New Training Score =  0.9102564102564102\n",
      "New Testing Score =  0.8333333333333334\n",
      "Accuracy Score: 0.8333333333333334\n"
     ]
    }
   ],
   "source": [
    "# Training model with new parameters\n",
    "clf.fit(X_train_np, Y_class_arr)\n",
    "y_pred = clf.predict(X_test_np)\n",
    "y_test = Y_class_arr\n",
    "print(\"New Training Score = \", clf.score(X_train_np, Y_class_arr))\n",
    "print(\"New Testing Score = \", clf.score(X_test_np, Y_class_arr))\n",
    "print ('Accuracy Score: {}'.format(accuracy_score(y_test, y_pred)))"
   ]
  },
  {
   "cell_type": "code",
   "execution_count": 16,
   "metadata": {},
   "outputs": [
    {
     "data": {
      "text/plain": [
       "Text(0.5,51,'Predicted label')"
      ]
     },
     "execution_count": 16,
     "metadata": {},
     "output_type": "execute_result"
    },
    {
     "data": {
      "image/png": "[encoded data removed]",
      "text/plain": [
       "<Figure size 576x576 with 2 Axes>"
      ]
     },
     "metadata": {},
     "output_type": "display_data"
    }
   ],
   "source": [
    "results = confusion_matrix(y_test, y_pred)\n",
    "plt.figure(figsize=(8,8))\n",
    "sns.heatmap(results, annot=True, fmt=\"d\", cmap = 'Blues')\n",
    "plt.title('Confusion Matrix')\n",
    "plt.ylabel('Actual label')\n",
    "plt.xlabel('Predicted label')"
   ]
  },
  {
   "cell_type": "code",
   "execution_count": 17,
   "metadata": {},
   "outputs": [
    {
     "name": "stdout",
     "output_type": "stream",
     "text": [
      "              precision    recall  f1-score   support\n",
      "\n",
      "           1       1.00      0.67      0.80         3\n",
      "           2       1.00      0.67      0.80         3\n",
      "           3       0.67      0.67      0.67         3\n",
      "           4       1.00      1.00      1.00         3\n",
      "           5       1.00      1.00      1.00         3\n",
      "           6       0.75      1.00      0.86         3\n",
      "           7       1.00      1.00      1.00         3\n",
      "           8       1.00      1.00      1.00         3\n",
      "           9       0.75      1.00      0.86         3\n",
      "          10       1.00      0.67      0.80         3\n",
      "          11       1.00      0.67      0.80         3\n",
      "          12       1.00      1.00      1.00         3\n",
      "          13       1.00      0.67      0.80         3\n",
      "          14       0.75      1.00      0.86         3\n",
      "          15       0.60      1.00      0.75         3\n",
      "          16       0.50      0.67      0.57         3\n",
      "          17       1.00      0.67      0.80         3\n",
      "          18       1.00      0.67      0.80         3\n",
      "          19       1.00      1.00      1.00         3\n",
      "          20       1.00      1.00      1.00         3\n",
      "          21       0.75      1.00      0.86         3\n",
      "          22       0.50      0.33      0.40         3\n",
      "          23       1.00      0.67      0.80         3\n",
      "          24       1.00      1.00      1.00         3\n",
      "          25       0.40      0.67      0.50         3\n",
      "          26       1.00      1.00      1.00         3\n",
      "\n",
      "    accuracy                           0.83        78\n",
      "   macro avg       0.87      0.83      0.84        78\n",
      "weighted avg       0.87      0.83      0.84        78\n",
      "\n"
     ]
    }
   ],
   "source": [
    "print (classification_report(y_test, y_pred))"
   ]
  },
  {
   "cell_type": "code",
   "execution_count": null,
   "metadata": {},
   "outputs": [],
   "source": []
  }
 ],
 "metadata": {
  "kernelspec": {
   "display_name": "Python 3",
   "language": "python",
   "name": "python3"
  },
  "language_info": {
   "codemirror_mode": {
    "name": "ipython",
    "version": 3
   },
   "file_extension": ".py",
   "mimetype": "text/x-python",
   "name": "python",
   "nbconvert_exporter": "python",
   "pygments_lexer": "ipython3",
   "version": "3.6.3"
  }
 },
 "nbformat": 4,
 "nbformat_minor": 4
}
